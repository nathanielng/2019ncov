{
 "cells": [
  {
   "cell_type": "markdown",
   "metadata": {},
   "source": [
    "# 2019 nCov Tracking\n",
    "\n",
    "## 1. Data Sources\n",
    "\n",
    "### 1.1 Singapore\n",
    "\n",
    "- **Ministry of Health**: https://www.moh.gov.sg/2019-ncov-wuhan\n",
    "\n",
    "### 1.2 Worldwide\n",
    "\n",
    "- **John Hopkins**: https://gisanddata.maps.arcgis.com/apps/opsdashboard/index.html#/bda7594740fd40299423467b48e9ecf6\n",
    "\n",
    "### 1.3 Libraries & Dependencies"
   ]
  },
  {
   "cell_type": "code",
   "execution_count": 1,
   "metadata": {},
   "outputs": [],
   "source": [
    "import matplotlib\n",
    "import matplotlib.pyplot as plt\n",
    "import pandas as pd\n",
    "import requests"
   ]
  },
  {
   "cell_type": "markdown",
   "metadata": {},
   "source": [
    "## 2. Data\n",
    "\n",
    "### 2.1 Singapore Data"
   ]
  },
  {
   "cell_type": "code",
   "execution_count": 2,
   "metadata": {},
   "outputs": [
    {
     "name": "stdout",
     "output_type": "stream",
     "text": [
      "Overwriting data/singapore.csv\n"
     ]
    }
   ],
   "source": [
    "%%writefile data/singapore.csv\n",
    "Date,Cases,URL\n",
    "23 Jan 2020,  1, https://www.moh.gov.sg/news-highlights/details/confirmed-imported-case-of-novel-coronavirus-infection-in-singapore-multi-ministry-taskforce-ramps-up-precautionary-measures\n",
    "24 Jan 2020,  3, https://www.moh.gov.sg/news-highlights/details/two-more-cases-of-confirmed-imported-case-of-novel-coronavirus-infection-in-singapore\n",
    "26 Jan 2020,  4, https://www.moh.gov.sg/news-highlights/details/fourth-confirmed-imported-case-of-wuhan-coronavirus-infection-in-singapore\n",
    "27 Jan 2020,  5, https://www.moh.gov.sg/news-highlights/details/fifth-confirmed-imported-case-of-wuhan-coronavirus-infection-in-singapore-27Jan\n",
    "28 Jan 2020,  7, https://www.channelnewsasia.com/news/singapore/wuhan-virus-singapore-latest-confirmed-cases-coronavirus-12360924\n",
    "29 Jan 2020, 10, https://www.moh.gov.sg/news-highlights/details/three-more-confirmed-imported-cases-of-wuhan-coronavirus-infection-in-singapore\n",
    "30 Jan 2020, 13, https://www.moh.gov.sg/news-highlights/details/three-more-confirmed-imported-cases-of-wuhan-coronavirus-infection-in-singapore-30Jan\n",
    "31 Jan 2020, 16, https://www.moh.gov.sg/news-highlights/details/three-more-confirmed-imported-cases-of-wuhan-coronavirus-infection-in-singapore-31-jan\n",
    " 1 Feb 2020, 18, https://www.moh.gov.sg/news-highlights/details/two-more-confirmed-imported-cases-of-novel-coronavirus-infection-in-singapore\n",
    " 2 Feb 2020, 18, https://www.moh.gov.sg/news-highlights/details/no-new-confirmed-cases-of-novel-coronavirus-infection-in-singapore\n",
    " 3 Feb 2020, 18, https://www.moh.gov.sg/news-highlights/details/no-new-confirmed-cases-of-novel-coronavirus-infection-in-singapore-3-Feb\n",
    " 4 Feb 2020, 24, https://www.moh.gov.sg/news-highlights/details/confirmed-cases-of-local-transmission-of-novel-coronavirus-infection-in-singapore\n",
    " 5 Feb 2020, 28, https://www.moh.gov.sg/news-highlights/details/four-more-confirmed-cases-of-novel-coronavirus-infection-in-singapore\n",
    " 6 Feb 2020, 30, https://www.moh.gov.sg/news-highlights/details/two-more-confirmed-cases-of-novel-coronavirus-infection-in-singapore\n",
    " 7 Feb 2020, 33, https://www.moh.gov.sg/news-highlights/details/three-more-confirmed-cases-of-novel-coronavirus-infection-in-singapore"
   ]
  },
  {
   "cell_type": "code",
   "execution_count": 3,
   "metadata": {},
   "outputs": [],
   "source": [
    "url = 'https://www.moh.gov.sg/2019-ncov-wuhan'\n",
    "dfs = pd.read_html(url)"
   ]
  },
  {
   "cell_type": "markdown",
   "metadata": {},
   "source": [
    "### 2.2 Worldwide Data"
   ]
  },
  {
   "cell_type": "code",
   "execution_count": 4,
   "metadata": {},
   "outputs": [
    {
     "name": "stdout",
     "output_type": "stream",
     "text": [
      "Overwriting data/worldwide.csv\n"
     ]
    }
   ],
   "source": [
    "%%writefile data/worldwide.csv\n",
    "Date,Mainland China,Other Locations\n",
    "20 Jan 2020,   278,   4\n",
    "21 Jan 2020,   326,   6\n",
    "22 Jan 2020,   547,   8\n",
    "23 Jan 2020,   639,  14\n",
    "24 Jan 2020,   916,  25\n",
    "25 Jan 2020,  2000,  40\n",
    "26 Jan 2020,  2700,  57\n",
    "27 Jan 2020,  4400,  64\n",
    "28 Jan 2020,  6000,  87\n",
    "29 Jan 2020,  7700, 105\n",
    "30 Jan 2020,  9700, 118\n",
    "31 Jan 2020, 11200, 153\n",
    " 1 Feb 2020, 14300, 173\n",
    " 2 Feb 2020, 17200, 183\n",
    " 3 Feb 2020, 19700, 188\n",
    " 4 Feb 2020, 23700, 212\n",
    " 5 Feb 2020, 27400, 227\n",
    " 6 Feb 2020, 30600, 265\n",
    " 7 Feb 2020, 34100, 317"
   ]
  },
  {
   "cell_type": "markdown",
   "metadata": {},
   "source": [
    "## 3. Data Preprocessing"
   ]
  },
  {
   "cell_type": "code",
   "execution_count": 5,
   "metadata": {
    "scrolled": true
   },
   "outputs": [
    {
     "data": {
      "text/html": [
       "<div>\n",
       "<style scoped>\n",
       "    .dataframe tbody tr th:only-of-type {\n",
       "        vertical-align: middle;\n",
       "    }\n",
       "\n",
       "    .dataframe tbody tr th {\n",
       "        vertical-align: top;\n",
       "    }\n",
       "\n",
       "    .dataframe thead th {\n",
       "        text-align: right;\n",
       "    }\n",
       "</style>\n",
       "<table border=\"1\" class=\"dataframe\">\n",
       "  <thead>\n",
       "    <tr style=\"text-align: right;\">\n",
       "      <th></th>\n",
       "      <th>Date</th>\n",
       "      <th>Cases</th>\n",
       "      <th>URL</th>\n",
       "    </tr>\n",
       "  </thead>\n",
       "  <tbody>\n",
       "    <tr>\n",
       "      <td>0</td>\n",
       "      <td>2020-01-23</td>\n",
       "      <td>1</td>\n",
       "      <td>https://www.moh.gov.sg/news-highlights/detail...</td>\n",
       "    </tr>\n",
       "    <tr>\n",
       "      <td>1</td>\n",
       "      <td>2020-01-24</td>\n",
       "      <td>3</td>\n",
       "      <td>https://www.moh.gov.sg/news-highlights/detail...</td>\n",
       "    </tr>\n",
       "    <tr>\n",
       "      <td>2</td>\n",
       "      <td>2020-01-26</td>\n",
       "      <td>4</td>\n",
       "      <td>https://www.moh.gov.sg/news-highlights/detail...</td>\n",
       "    </tr>\n",
       "    <tr>\n",
       "      <td>3</td>\n",
       "      <td>2020-01-27</td>\n",
       "      <td>5</td>\n",
       "      <td>https://www.moh.gov.sg/news-highlights/detail...</td>\n",
       "    </tr>\n",
       "    <tr>\n",
       "      <td>4</td>\n",
       "      <td>2020-01-28</td>\n",
       "      <td>7</td>\n",
       "      <td>https://www.channelnewsasia.com/news/singapor...</td>\n",
       "    </tr>\n",
       "  </tbody>\n",
       "</table>\n",
       "</div>"
      ],
      "text/plain": [
       "        Date  Cases                                                URL\n",
       "0 2020-01-23      1   https://www.moh.gov.sg/news-highlights/detail...\n",
       "1 2020-01-24      3   https://www.moh.gov.sg/news-highlights/detail...\n",
       "2 2020-01-26      4   https://www.moh.gov.sg/news-highlights/detail...\n",
       "3 2020-01-27      5   https://www.moh.gov.sg/news-highlights/detail...\n",
       "4 2020-01-28      7   https://www.channelnewsasia.com/news/singapor..."
      ]
     },
     "execution_count": 5,
     "metadata": {},
     "output_type": "execute_result"
    }
   ],
   "source": [
    "dfsg = pd.read_csv('data/singapore.csv')\n",
    "dfsg['Date'] = pd.to_datetime(dfsg['Date'], dayfirst=True)\n",
    "dfsg.head()"
   ]
  },
  {
   "cell_type": "code",
   "execution_count": 6,
   "metadata": {},
   "outputs": [],
   "source": [
    "dfw = pd.read_csv('data/worldwide.csv')\n",
    "dfw['Date'] = pd.to_datetime(dfw['Date'], dayfirst=True)\n",
    "dfw['Total'] = dfw['Mainland China'] + dfw['Other Locations']"
   ]
  },
  {
   "cell_type": "code",
   "execution_count": 7,
   "metadata": {},
   "outputs": [
    {
     "data": {
      "text/html": [
       "<div>\n",
       "<style scoped>\n",
       "    .dataframe tbody tr th:only-of-type {\n",
       "        vertical-align: middle;\n",
       "    }\n",
       "\n",
       "    .dataframe tbody tr th {\n",
       "        vertical-align: top;\n",
       "    }\n",
       "\n",
       "    .dataframe thead th {\n",
       "        text-align: right;\n",
       "    }\n",
       "</style>\n",
       "<table border=\"1\" class=\"dataframe\">\n",
       "  <thead>\n",
       "    <tr style=\"text-align: right;\">\n",
       "      <th></th>\n",
       "      <th>Date</th>\n",
       "      <th>Mainland China</th>\n",
       "      <th>Other Locations</th>\n",
       "      <th>Total</th>\n",
       "    </tr>\n",
       "  </thead>\n",
       "  <tbody>\n",
       "    <tr>\n",
       "      <td>0</td>\n",
       "      <td>2020-01-20</td>\n",
       "      <td>278</td>\n",
       "      <td>4</td>\n",
       "      <td>282</td>\n",
       "    </tr>\n",
       "    <tr>\n",
       "      <td>1</td>\n",
       "      <td>2020-01-21</td>\n",
       "      <td>326</td>\n",
       "      <td>6</td>\n",
       "      <td>332</td>\n",
       "    </tr>\n",
       "    <tr>\n",
       "      <td>2</td>\n",
       "      <td>2020-01-22</td>\n",
       "      <td>547</td>\n",
       "      <td>8</td>\n",
       "      <td>555</td>\n",
       "    </tr>\n",
       "    <tr>\n",
       "      <td>3</td>\n",
       "      <td>2020-01-23</td>\n",
       "      <td>639</td>\n",
       "      <td>14</td>\n",
       "      <td>653</td>\n",
       "    </tr>\n",
       "    <tr>\n",
       "      <td>4</td>\n",
       "      <td>2020-01-24</td>\n",
       "      <td>916</td>\n",
       "      <td>25</td>\n",
       "      <td>941</td>\n",
       "    </tr>\n",
       "    <tr>\n",
       "      <td>5</td>\n",
       "      <td>2020-01-25</td>\n",
       "      <td>2000</td>\n",
       "      <td>40</td>\n",
       "      <td>2040</td>\n",
       "    </tr>\n",
       "    <tr>\n",
       "      <td>6</td>\n",
       "      <td>2020-01-26</td>\n",
       "      <td>2700</td>\n",
       "      <td>57</td>\n",
       "      <td>2757</td>\n",
       "    </tr>\n",
       "    <tr>\n",
       "      <td>7</td>\n",
       "      <td>2020-01-27</td>\n",
       "      <td>4400</td>\n",
       "      <td>64</td>\n",
       "      <td>4464</td>\n",
       "    </tr>\n",
       "    <tr>\n",
       "      <td>8</td>\n",
       "      <td>2020-01-28</td>\n",
       "      <td>6000</td>\n",
       "      <td>87</td>\n",
       "      <td>6087</td>\n",
       "    </tr>\n",
       "    <tr>\n",
       "      <td>9</td>\n",
       "      <td>2020-01-29</td>\n",
       "      <td>7700</td>\n",
       "      <td>105</td>\n",
       "      <td>7805</td>\n",
       "    </tr>\n",
       "    <tr>\n",
       "      <td>10</td>\n",
       "      <td>2020-01-30</td>\n",
       "      <td>9700</td>\n",
       "      <td>118</td>\n",
       "      <td>9818</td>\n",
       "    </tr>\n",
       "    <tr>\n",
       "      <td>11</td>\n",
       "      <td>2020-01-31</td>\n",
       "      <td>11200</td>\n",
       "      <td>153</td>\n",
       "      <td>11353</td>\n",
       "    </tr>\n",
       "    <tr>\n",
       "      <td>12</td>\n",
       "      <td>2020-02-01</td>\n",
       "      <td>14300</td>\n",
       "      <td>173</td>\n",
       "      <td>14473</td>\n",
       "    </tr>\n",
       "    <tr>\n",
       "      <td>13</td>\n",
       "      <td>2020-02-02</td>\n",
       "      <td>17200</td>\n",
       "      <td>183</td>\n",
       "      <td>17383</td>\n",
       "    </tr>\n",
       "    <tr>\n",
       "      <td>14</td>\n",
       "      <td>2020-02-03</td>\n",
       "      <td>19700</td>\n",
       "      <td>188</td>\n",
       "      <td>19888</td>\n",
       "    </tr>\n",
       "    <tr>\n",
       "      <td>15</td>\n",
       "      <td>2020-02-04</td>\n",
       "      <td>23700</td>\n",
       "      <td>212</td>\n",
       "      <td>23912</td>\n",
       "    </tr>\n",
       "    <tr>\n",
       "      <td>16</td>\n",
       "      <td>2020-02-05</td>\n",
       "      <td>27400</td>\n",
       "      <td>227</td>\n",
       "      <td>27627</td>\n",
       "    </tr>\n",
       "    <tr>\n",
       "      <td>17</td>\n",
       "      <td>2020-02-06</td>\n",
       "      <td>30600</td>\n",
       "      <td>265</td>\n",
       "      <td>30865</td>\n",
       "    </tr>\n",
       "    <tr>\n",
       "      <td>18</td>\n",
       "      <td>2020-02-07</td>\n",
       "      <td>34100</td>\n",
       "      <td>317</td>\n",
       "      <td>34417</td>\n",
       "    </tr>\n",
       "  </tbody>\n",
       "</table>\n",
       "</div>"
      ],
      "text/plain": [
       "         Date  Mainland China  Other Locations  Total\n",
       "0  2020-01-20             278                4    282\n",
       "1  2020-01-21             326                6    332\n",
       "2  2020-01-22             547                8    555\n",
       "3  2020-01-23             639               14    653\n",
       "4  2020-01-24             916               25    941\n",
       "5  2020-01-25            2000               40   2040\n",
       "6  2020-01-26            2700               57   2757\n",
       "7  2020-01-27            4400               64   4464\n",
       "8  2020-01-28            6000               87   6087\n",
       "9  2020-01-29            7700              105   7805\n",
       "10 2020-01-30            9700              118   9818\n",
       "11 2020-01-31           11200              153  11353\n",
       "12 2020-02-01           14300              173  14473\n",
       "13 2020-02-02           17200              183  17383\n",
       "14 2020-02-03           19700              188  19888\n",
       "15 2020-02-04           23700              212  23912\n",
       "16 2020-02-05           27400              227  27627\n",
       "17 2020-02-06           30600              265  30865\n",
       "18 2020-02-07           34100              317  34417"
      ]
     },
     "execution_count": 7,
     "metadata": {},
     "output_type": "execute_result"
    }
   ],
   "source": [
    "dfw"
   ]
  },
  {
   "cell_type": "markdown",
   "metadata": {},
   "source": [
    "## 4. Plots"
   ]
  },
  {
   "cell_type": "code",
   "execution_count": 8,
   "metadata": {
    "scrolled": false
   },
   "outputs": [
    {
     "data": {
      "image/png": "[encoded data removed]",
      "text/plain": [
       "<Figure size 504x864 with 3 Axes>"
      ]
     },
     "metadata": {
      "needs_background": "light"
     },
     "output_type": "display_data"
    }
   ],
   "source": [
    "fig, ax = plt.subplots(3, 1, sharex=True, figsize=(7,12))\n",
    "dfw.plot(x='Date', y='Mainland China', marker='o', ax=ax[0]);\n",
    "dfw.plot(x='Date', y='Other Locations', marker='o', ax=ax[1]);\n",
    "dfsg.plot(x='Date', y='Cases', marker='o', ax=ax[2], label='Singapore');"
   ]
  }
 ],
 "metadata": {
  "kernelspec": {
   "display_name": "Python 3",
   "language": "python",
   "name": "python3"
  },
  "language_info": {
   "codemirror_mode": {
    "name": "ipython",
    "version": 3
   },
   "file_extension": ".py",
   "mimetype": "text/x-python",
   "name": "python",
   "nbconvert_exporter": "python",
   "pygments_lexer": "ipython3",
   "version": "3.6.9"
  }
 },
 "nbformat": 4,
 "nbformat_minor": 2
}
